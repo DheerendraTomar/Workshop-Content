{
 "cells": [
  {
   "cell_type": "markdown",
   "metadata": {
    "slideshow": {
     "slide_type": "slide"
    }
   },
   "source": [
    "# The Jargon Bubble\n",
    "\n",
    "\n",
    "\n",
    "![title](img/jargon_bubble.png)\n",
    "\n",
    "\n",
    "Let us begin with the common confusion we all have.\n",
    "\n",
    "Is AI the same as ML? How are they related to Data Science? Isn’t Pattern Recognition same as AI? What about PR(pattern recognition) in Computer Vision? Isn’t it AI? Where does data science fit in?\n",
    "\n",
    "\n",
    "**Artificial Intelligence (AI)**, sometimes called machine learning, is intelligence demonstrated by machines, in contrast to the natural intelligence displayed by humans and other animals.\n",
    "\n",
    "**Machine Learning** is a field of computer science that uses statistical techniques to give computer systems the ability to *learn* with *data*, and without being explicitly programmed.\n",
    "\n",
    "\n",
    "**Data science** is an interdisciplinary field that uses scientific methods, processes, algorithms and systems to extract knowledge and insights from data in various forms, both structured and unstructured, similar to data mining.\n",
    "\n",
    "\n",
    "**Pattern recognition** is the automated recognition of patterns and regularities in data.\n",
    "\n",
    "\n",
    "**Computer vision** is an interdisciplinary field that deals with how computers can be made to gain a high-level understanding from digital images or videos and automate tasks that the human visual system can do.\n",
    "\n",
    "\n",
    "\n",
    "**Deep Learning** is a new area of Machine Learning research, which has been introduced with the objective of moving Machine Learning closer to one of its original goals: Artificial Intelligence.\n",
    "\n",
    "\n",
    "We know that humans are intelligent beings. So let’s try an alternative approach to resolve this confusion by thinking in terms of what humans can do, and can the machines do the same thing. We shall use this AI map as a lens to look through and differentiate these jargon bubbles.\n",
    "\n",
    "\n",
    "![title](img/humans.png)\n",
    "\n",
    "\n",
    "\n",
    "### What is Data Science?\n",
    "\n",
    "##### Is it a subset of AI, a superset or neither?\n",
    "\n",
    "When you are dealing with data and performing some systematic study through observation and experiment, then you can call your activity as Data Science. In that sense, many tasks in NLP, speech processing, Image processing etc could be termed as Data Science, because text, audio signals and images are also data, and you might be doing some scientific processing on it. But it is preferred to use a more specific term like NLP rather than Data Science or AI which may lead to more confusion. Data Science is commonly used when dealing with structured numeric data like database tables.\n",
    "\n",
    "\n",
    "**Data science** is number crunching on data, one can analyze it to understand association or visualize it to communicate effectively with people. There is no learning. While Predictive statistics is to address questions which can’t be find in data. Say predict the stock market on stock data, predict tomorrow’s weather based on weather data. Again, We can use ML, DL to solve these related problems.\n",
    "\n",
    "\n",
    "![title](img/world.jpg)\n",
    "\n",
    "![title](img/barplot.jpg)\n",
    "\n"
   ]
  },
  {
   "cell_type": "markdown",
   "metadata": {
    "slideshow": {
     "slide_type": "slide"
    }
   },
   "source": [
    "## Workflow stages\n",
    "We have to approach like this for a dataset\n",
    "\n",
    "1. Question or problem definition.\n",
    "2. Acquire training and testing data.\n",
    "3. Wrangle, prepare, cleanse the data.\n",
    "4. Analyze, identify patterns, and explore the data.\n",
    "5. Model, predict and solve the problem.\n",
    "6. Visualize, report, and present the problem solving steps and final solution."
   ]
  },
  {
   "cell_type": "markdown",
   "metadata": {
    "slideshow": {
     "slide_type": "slide"
    }
   },
   "source": [
    "# Links to Notebooks\n",
    "\n",
    "#### Numpy\n",
    "\n",
    "[Numpy Arrays](./numpy/numpyArrays.ipynb)\n",
    "\n",
    "[Numpy Indexing and Selection](./numpy/Numpy_Indexing_and_Selction.ipynb)\n",
    "\n",
    "[Numpy Operations](./numpy/Numpy_Operations.ipynb)\n",
    "\n",
    "\n",
    "#### Pandas\n",
    "\n",
    "[Introduction to Pandas](./pandas/Introduction_to_Pandas.ipynb)\n",
    "\n",
    "[Series](./pandas/Series.ipynb)\n",
    "\n",
    "[DataFrames](./pandas/DataFrames.ipynb)\n",
    "\n",
    "[Missing Data](./pandas/Missing_Data.ipynb)\n",
    "\n",
    "[Groupby](./pandas/Groupby.ipynb)\n",
    "\n",
    "[Merging_Joining_and_Concatenating](./pandas/Merging_Joining_and_Concatenating.ipynb)\n",
    "\n",
    "[Operations](./pandas/Operations.ipynb)\n",
    "\n",
    "[Data_Input_and_Output](./pandas/Data_Input_and_Output.ipynb)\n",
    "\n",
    "\n",
    "#### Matplotlib\n",
    "\n",
    "[Matplotlib_Concepts](./matplotlib/Matplotlib_Concepts.ipynb)\n",
    "\n",
    "\n",
    "#### Seaborn\n",
    "\n",
    "[Distribution  Plots](./seaborn/Distribution_Plots.ipynb)\n",
    "\n",
    "[Categorical_Plots](./seaborn/Categorical_Plots.ipynb)\n",
    "\n",
    "[Matrix_Plots](./seaborn/Matrix_Plots.ipynb)\n",
    "\n",
    "[Grids](./seaborn/Grids.ipynb)\n",
    "\n",
    "[Regression_Plots](./seaborn/Regression_Plots.ipynb)\n",
    "\n",
    "[Style_and_Color](./seaborn/Style_and_Color.ipynb)\n",
    "\n",
    "\n",
    "#### Prediction\n",
    "\n",
    "[Prediction](./prediction/predicting-titanic-survivors.ipynb)\n"
   ]
  },
  {
   "cell_type": "code",
   "execution_count": null,
   "metadata": {},
   "outputs": [],
   "source": []
  }
 ],
 "metadata": {
  "kernelspec": {
   "display_name": "Python 3",
   "language": "python",
   "name": "python3"
  },
  "language_info": {
   "codemirror_mode": {
    "name": "ipython",
    "version": 3
   },
   "file_extension": ".py",
   "mimetype": "text/x-python",
   "name": "python",
   "nbconvert_exporter": "python",
   "pygments_lexer": "ipython3",
   "version": "3.6.8"
  }
 },
 "nbformat": 4,
 "nbformat_minor": 2
}
